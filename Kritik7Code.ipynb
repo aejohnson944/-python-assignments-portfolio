{
 "cells": [
  {
   "cell_type": "code",
   "execution_count": 9,
   "id": "540bb8f3-4073-4250-8a1f-852c98773d05",
   "metadata": {},
   "outputs": [
    {
     "name": "stdout",
     "output_type": "stream",
     "text": [
      "The mean is 82.382\n",
      "The standard deviation is 10.193467189005581\n",
      "the t-distribution is 2.290087686017293\n",
      "the t-value is 2.2522252225222523\n",
      "False\n",
      "Therefore, the data suggests that we can reject the null hypothesis, as the mean is not statistically close enough to 75. This data suggests that the  new teaching technique is beneficial!\n"
     ]
    }
   ],
   "source": [
    "import numpy as np\n",
    "from scipy.special import gamma\n",
    "\n",
    "grades = [92.64,79.00,84.79,97.41,93.68,65.23,84.50,73.49,73.97,79.11]\n",
    "n = len(grades)\n",
    "\n",
    "#this function computes the mean of the grades:\n",
    "def function(grades, n):\n",
    "    mean = sum(grades)/n\n",
    "    return (mean)\n",
    "\n",
    "#standard deviation:\n",
    "standard_dev_sum = 0\n",
    "for i in range (n):\n",
    "    mean = sum(grades)/n\n",
    "    standard_dev_sum += (grades[i] - mean)**2\n",
    "standard_deviation = ((1/(n-1))*standard_dev_sum)**0.5\n",
    "\n",
    "#part ii)\n",
    "def tzero(grades, n):\n",
    "    mean = sum(grades)/n\n",
    "    t = (mean - 75) / (standard_deviation / np.sqrt(n))\n",
    "    return (t)\n",
    "\n",
    "def t_distribution_pdf(x, nu):\n",
    "    \n",
    "    coeff = gamma((nu + 1) / 2) / (np.sqrt(nu * np.pi) * gamma(nu / 2))\n",
    "    density = coeff * (1 + x**2 / nu) ** (-0.5 * (nu + 1))\n",
    "    return density\n",
    "    \n",
    "def find_t_star(prob = 0.95, nu = n-1, x_start=0, x_end=20, num_points=10000):\n",
    "    # Define the x values\n",
    "    x = np.linspace(x_start, x_end, num_points)\n",
    "    # Apply the density function to the x values\n",
    "    y = t_distribution_pdf(x, nu)\n",
    "    # This next line is the integration (exercise: why does this work?)\n",
    "    cdf = np.cumsum(y) * (x[1] - x[0])\n",
    "\n",
    "    # Find the t-value where the cumulative probability reaches half of the required probability\n",
    "    target_half_prob = prob / 2\n",
    "    index = np.where(cdf >= target_half_prob) [0][0]\n",
    "    q = x[index]\n",
    "    return q\n",
    "\n",
    "def truthchecker():\n",
    "    t_star = find_t_star(prob = 0.95, nu = n-1, x_start=0, x_end=20, num_points=10000)\n",
    "    t_zero = tzero(grades, n)\n",
    "    return abs(t_zero) <= t_star\n",
    "\n",
    "print(\"The mean is\", function(grades, n))\n",
    "print(\"The standard deviation is\", standard_deviation)\n",
    "print(\"the t-distribution is\", tzero(grades, n))\n",
    "print(\"the t-value is\", find_t_star(prob = 0.95, nu = n-1, x_start=0, x_end=20, num_points=10000))\n",
    "print (truthchecker())\n",
    "print (\"Therefore, the data suggests that we can reject the null hypothesis, as the mean is not statistically close enough to 75. This data suggests that the  new teaching technique is beneficial!\")\n"
   ]
  },
  {
   "cell_type": "code",
   "execution_count": null,
   "id": "45c0469f-56a4-423c-923f-53285f303bf3",
   "metadata": {},
   "outputs": [],
   "source": []
  },
  {
   "cell_type": "code",
   "execution_count": null,
   "id": "ff47e671-8fc1-4907-b488-4656b084d54e",
   "metadata": {},
   "outputs": [],
   "source": []
  }
 ],
 "metadata": {
  "kernelspec": {
   "display_name": "Python 3 (ipykernel)",
   "language": "python",
   "name": "python3"
  },
  "language_info": {
   "codemirror_mode": {
    "name": "ipython",
    "version": 3
   },
   "file_extension": ".py",
   "mimetype": "text/x-python",
   "name": "python",
   "nbconvert_exporter": "python",
   "pygments_lexer": "ipython3",
   "version": "3.12.8"
  }
 },
 "nbformat": 4,
 "nbformat_minor": 5
}
