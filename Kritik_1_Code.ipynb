{
 "cells": [
  {
   "metadata": {
    "ExecuteTime": {
     "end_time": "2024-09-30T03:19:56.110030Z",
     "start_time": "2024-09-30T03:19:56.101534Z"
    }
   },
   "cell_type": "code",
   "source": [
    "def est(x):\n",
    "    if x<0 or x>1:\n",
    "        return \"ERROR!\"\n",
    "    \n",
    "    est = 0\n",
    "    n=0\n",
    "    error_bound = (x**(2*n+1))/(2*n-1)\n",
    "    \n",
    "    while error_bound > 0.0001:\n",
    "        est += ((-1)**n) * (x **(2*n+1))/(2*n+1)\n",
    "        \n",
    "        n += 1\n",
    "        error_bound = (x**(2*n+1))/(2*n-1)\n",
    "        \n",
    "    return (est, n, error_bound)\n",
    "    \n",
    "test_values = [-1, 0, 0.25, 0.5, 0.75, 1]\n",
    "\n",
    "for x in test_values:\n",
    "    \n",
    "    result = est(x)\n",
    "    print(f\"x = {x}: {result}\")        \n",
    "       \n",
    "        \n",
    "  "
   ],
   "id": "18845770b24a3d30",
   "outputs": [
    {
     "name": "stdout",
     "output_type": "stream",
     "text": [
      "x = -1: ERROR!\n",
      "x = 0: (0, 0, -0.0)\n",
      "x = 0.25: (0, 0, -0.25)\n",
      "x = 0.5: (0, 0, -0.5)\n",
      "x = 0.75: (0, 0, -0.75)\n",
      "x = 1: (0, 0, -1.0)\n"
     ]
    }
   ],
   "execution_count": 8
  }
 ],
 "metadata": {
  "kernelspec": {
   "display_name": "Python 3",
   "language": "python",
   "name": "python3"
  },
  "language_info": {
   "codemirror_mode": {
    "name": "ipython",
    "version": 2
   },
   "file_extension": ".py",
   "mimetype": "text/x-python",
   "name": "python",
   "nbconvert_exporter": "python",
   "pygments_lexer": "ipython2",
   "version": "2.7.6"
  }
 },
 "nbformat": 4,
 "nbformat_minor": 5
}
