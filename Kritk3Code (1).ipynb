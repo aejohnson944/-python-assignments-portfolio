{
 "cells": [
  {
   "cell_type": "code",
   "execution_count": 10,
   "id": "1dd65dd6-c6e0-4db6-8401-cc043b1ec800",
   "metadata": {},
   "outputs": [
    {
     "name": "stdout",
     "output_type": "stream",
     "text": [
      "x1 = 0.9999999799999999\n",
      "x2 = 1.0000000199999999\n",
      "The approximation for error is 0.1\n"
     ]
    }
   ],
   "source": [
    "#testing function i)\n",
    "import numpy as np\n",
    "\n",
    "#coding for a):\n",
    "f = lambda x:x**2\n",
    "c= 1\n",
    "E = 0.1\n",
    "\n",
    "#coding for b)\n",
    "delta_x = 10**-8\n",
    "\n",
    "def central_difference_derivative(x):\n",
    "    return (f(c+delta_x) - f(c-delta_x))/(2*delta_x)\n",
    "\n",
    "#coding for c)\n",
    "def linear_approximation(x):\n",
    "    return f(c) + central_difference_derivative(c)*(x-c)\n",
    "\n",
    "#coding for d)\n",
    "def absolute_error(x):\n",
    "    return abs(f(x) - linear_approximation)-E\n",
    "\n",
    "x1 = c - delta_x\n",
    "x2 = c + delta_x\n",
    "\n",
    "if abs(f(x1) - linear_approximation(x1)) < E or abs(f(x1) - linear_approximation(x1)) > E:\n",
    "    x1 -= delta_x\n",
    "    print(f\"x1 = {x1}\")\n",
    "else:\n",
    "    print(\"x1 not in range\")\n",
    "\n",
    "if abs(f(x2) - linear_approximation(x2)) < E or abs(f(x2) - linear_approximation(x2)) > E:\n",
    "    x2 += delta_x\n",
    "    print(f\"x2 = {x2}\")\n",
    "else:\n",
    "    print(\"x2 not in range\")\n",
    "    \n",
    "print(\"The approximation for error is \" + str(E))"
   ]
  },
  {
   "cell_type": "code",
   "execution_count": 11,
   "id": "acc0e042-ef4b-42ae-8dbf-6ddc29da68e7",
   "metadata": {},
   "outputs": [
    {
     "name": "stdout",
     "output_type": "stream",
     "text": [
      "x1 = 0.7853981433974482\n",
      "x2 = 0.7853981833974484\n",
      "The approximation for error is 0.05\n"
     ]
    }
   ],
   "source": [
    "#testing function ii)\n",
    "import numpy as np\n",
    "\n",
    "#coding for a):\n",
    "f = lambda x:np.sin(x)\n",
    "c= np.pi/4\n",
    "E = 0.05\n",
    "\n",
    "#coding for b)\n",
    "delta_x = 10**-8\n",
    "\n",
    "def central_difference_derivative(x):\n",
    "    return (f(c+delta_x) - f(c-delta_x))/(2*delta_x)\n",
    "\n",
    "#coding for c)\n",
    "def linear_approximation(x):\n",
    "    return f(c) + central_difference_derivative(c)*(x-c)\n",
    "\n",
    "#coding for d)\n",
    "def absolute_error(x):\n",
    "    return abs(f(x) - linear_approximation)-E\n",
    "\n",
    "x1 = c - delta_x\n",
    "x2 = c + delta_x\n",
    "\n",
    "if abs(f(x1) - linear_approximation(x1)) < E or abs(f(x1) - linear_approximation(x1)) > E:\n",
    "    x1 -= delta_x\n",
    "    print(f\"x1 = {x1}\")\n",
    "else:\n",
    "    print(\"x1 not in range\")\n",
    "\n",
    "if abs(f(x2) - linear_approximation(x2)) < E or abs(f(x2) - linear_approximation(x2)) > E:\n",
    "    x2 += delta_x\n",
    "    print(f\"x2 = {x2}\")\n",
    "else:\n",
    "    print(\"x2 not in range\")\n",
    "    \n",
    "print(\"The approximation for error is \" + str(E))"
   ]
  },
  {
   "cell_type": "code",
   "execution_count": 12,
   "id": "8e918752-63e8-4d3a-9d7f-b988091b2031",
   "metadata": {},
   "outputs": [
    {
     "name": "stdout",
     "output_type": "stream",
     "text": [
      "x1 = -2e-08\n",
      "x2 = 2e-08\n",
      "The approximation for error is 0.01\n"
     ]
    }
   ],
   "source": [
    "#testing function iii)\n",
    "import numpy as np\n",
    "\n",
    "#coding for a):\n",
    "f = lambda x:np.exp(x)\n",
    "c= 0\n",
    "E = 0.01\n",
    "\n",
    "#coding for b):\n",
    "delta_x = 10**-8\n",
    "\n",
    "def central_difference_derivative(x):\n",
    "    return (f(c+delta_x) - f(c-delta_x))/(2*delta_x)\n",
    "\n",
    "#coding for c):\n",
    "def linear_approximation(x):\n",
    "    return f(c) + central_difference_derivative(c)*(x-c)\n",
    "#coding for d)\n",
    "def absolute_error(x):\n",
    "    return abs(f(x) - linear_approximation)-E\n",
    "\n",
    "x1 = c - delta_x\n",
    "x2 = c + delta_x\n",
    "\n",
    "if abs(f(x1) - linear_approximation(x1)) < E or abs(f(x1) - linear_approximation(x1)) > E:\n",
    "    x1 -= delta_x\n",
    "    print(f\"x1 = {x1}\")\n",
    "else:\n",
    "    print(\"x1 not in range\")\n",
    "\n",
    "if abs(f(x2) - linear_approximation(x2)) < E or abs(f(x2) - linear_approximation(x2)) > E:\n",
    "    x2 += delta_x\n",
    "    print(f\"x2 = {x2}\")\n",
    "else:\n",
    "    print(\"x2 not in range\")\n",
    "    \n",
    "print(\"The approximation for error is \" + str(E))"
   ]
  },
  {
   "cell_type": "code",
   "execution_count": null,
   "id": "dae102af-0934-414b-a722-685cf4b85f8a",
   "metadata": {},
   "outputs": [],
   "source": []
  }
 ],
 "metadata": {
  "kernelspec": {
   "display_name": "Python 3 (ipykernel)",
   "language": "python",
   "name": "python3"
  },
  "language_info": {
   "codemirror_mode": {
    "name": "ipython",
    "version": 3
   },
   "file_extension": ".py",
   "mimetype": "text/x-python",
   "name": "python",
   "nbconvert_exporter": "python",
   "pygments_lexer": "ipython3",
   "version": "3.11.9"
  }
 },
 "nbformat": 4,
 "nbformat_minor": 5
}
